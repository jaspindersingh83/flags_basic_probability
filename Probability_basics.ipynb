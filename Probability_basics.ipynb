{
 "cells": [
  {
   "cell_type": "code",
   "execution_count": 25,
   "metadata": {
    "collapsed": false
   },
   "outputs": [
    {
     "name": "stdout",
     "output_type": "stream",
     "text": [
      "161    St-Vincent\n",
      "Name: name, dtype: object\n",
      "37    China\n",
      "Name: name, dtype: object\n"
     ]
    }
   ],
   "source": [
    "import pandas as pd\n",
    "flags=pd.read_csv('flag_data.txt')\n",
    "print(flags[flags['bars']==flags['bars'].max()]['name'])\n",
    "print(flags[flags['population']==flags['population'].max()]['name'])\n"
   ]
  },
  {
   "cell_type": "code",
   "execution_count": 26,
   "metadata": {
    "collapsed": false
   },
   "outputs": [
    {
     "data": {
      "text/plain": [
       "0.13402061855670103"
      ]
     },
     "execution_count": 26,
     "metadata": {},
     "output_type": "execute_result"
    }
   ],
   "source": [
    "orange_probability=len(flags[flags['orange']==1])/len(flags)\n",
    "orange_probability"
   ]
  },
  {
   "cell_type": "code",
   "execution_count": 27,
   "metadata": {
    "collapsed": false
   },
   "outputs": [
    {
     "data": {
      "text/plain": [
       "0.41237113402061853"
      ]
     },
     "execution_count": 27,
     "metadata": {},
     "output_type": "execute_result"
    }
   ],
   "source": [
    "stripe_probability=len(flags[flags['stripes']>1])/len(flags)\n",
    "stripe_probability"
   ]
  },
  {
   "cell_type": "code",
   "execution_count": 39,
   "metadata": {
    "collapsed": false
   },
   "outputs": [
    {
     "data": {
      "text/plain": [
       "0.4884855242775493"
      ]
     },
     "execution_count": 39,
     "metadata": {},
     "output_type": "execute_result"
    }
   ],
   "source": [
    "num=len(flags[flags['red']==1])\n",
    "den=len(flags)\n",
    "red1=num/den\n",
    "red2=(num-1)/(den-1)\n",
    "red3=(num-2)/(den-2)\n",
    "three_red=red1*red2*red3\n",
    "three_red\n"
   ]
  },
  {
   "cell_type": "code",
   "execution_count": 52,
   "metadata": {
    "collapsed": false
   },
   "outputs": [
    {
     "data": {
      "text/plain": [
       "0.014333333333333333"
      ]
     },
     "execution_count": 52,
     "metadata": {},
     "output_type": "execute_result"
    }
   ],
   "source": [
    "sample=range(0,18000)\n",
    "li=[]\n",
    "li1=[]\n",
    "for i in sample:\n",
    "    if i%100==0:\n",
    "        li.append(i)\n",
    "for i in sample:\n",
    "    if i%70==0:\n",
    "        li1.append(i)\n",
    "hundred_prob=len(li)/len(sample)\n",
    "seventy_prob=len(li1)/len(sample)\n",
    "seventy_prob\n",
    "    "
   ]
  },
  {
   "cell_type": "code",
   "execution_count": 72,
   "metadata": {
    "collapsed": false
   },
   "outputs": [
    {
     "data": {
      "text/plain": [
       "0.8247422680412371"
      ]
     },
     "execution_count": 72,
     "metadata": {},
     "output_type": "execute_result"
    }
   ],
   "source": [
    "### Calculating P(AUB)\n",
    "orange_probability=len(flags[flags['orange']==1])/len(flags)\n",
    "red_probability=len(flags[flags['red']==1])/len(flags)\n",
    "red_and_orange=len(flags[(flags['red']==1) | (flags['orange']==1)])/len(flags)\n",
    "\n",
    "red_or_orange=red_probability+orange_probability-red_and_orange\n",
    "\n"
   ]
  },
  {
   "cell_type": "code",
   "execution_count": 64,
   "metadata": {
    "collapsed": false
   },
   "outputs": [
    {
     "data": {
      "text/plain": [
       "0      False\n",
       "1      False\n",
       "2      False\n",
       "3       True\n",
       "4      False\n",
       "5      False\n",
       "6      False\n",
       "7      False\n",
       "8      False\n",
       "9      False\n",
       "10     False\n",
       "11     False\n",
       "12     False\n",
       "13     False\n",
       "14     False\n",
       "15     False\n",
       "16     False\n",
       "17      True\n",
       "18     False\n",
       "19     False\n",
       "20      True\n",
       "21     False\n",
       "22     False\n",
       "23     False\n",
       "24      True\n",
       "25     False\n",
       "26     False\n",
       "27     False\n",
       "28     False\n",
       "29     False\n",
       "       ...  \n",
       "164     True\n",
       "165    False\n",
       "166    False\n",
       "167    False\n",
       "168    False\n",
       "169    False\n",
       "170    False\n",
       "171    False\n",
       "172    False\n",
       "173    False\n",
       "174    False\n",
       "175    False\n",
       "176     True\n",
       "177    False\n",
       "178    False\n",
       "179    False\n",
       "180    False\n",
       "181    False\n",
       "182    False\n",
       "183    False\n",
       "184    False\n",
       "185    False\n",
       "186    False\n",
       "187     True\n",
       "188    False\n",
       "189    False\n",
       "190    False\n",
       "191     True\n",
       "192     True\n",
       "193    False\n",
       "dtype: bool"
      ]
     },
     "execution_count": 64,
     "metadata": {},
     "output_type": "execute_result"
    }
   ],
   "source": [
    "(flags['red']==1) & (flags['orange']==1)"
   ]
  },
  {
   "cell_type": "code",
   "execution_count": 76,
   "metadata": {
    "collapsed": false
   },
   "outputs": [
    {
     "data": {
      "text/plain": [
       "0.875"
      ]
     },
     "execution_count": 76,
     "metadata": {},
     "output_type": "execute_result"
    }
   ],
   "source": [
    "probabilty_3tails=0.5**3\n",
    "probabilty_3tails\n",
    "heads_or=1-probabilty_3tails\n",
    "heads_or"
   ]
  },
  {
   "cell_type": "code",
   "execution_count": null,
   "metadata": {
    "collapsed": true
   },
   "outputs": [],
   "source": []
  }
 ],
 "metadata": {
  "kernelspec": {
   "display_name": "Python 3",
   "language": "python",
   "name": "python3"
  },
  "language_info": {
   "codemirror_mode": {
    "name": "ipython",
    "version": 3
   },
   "file_extension": ".py",
   "mimetype": "text/x-python",
   "name": "python",
   "nbconvert_exporter": "python",
   "pygments_lexer": "ipython3",
   "version": "3.6.0"
  }
 },
 "nbformat": 4,
 "nbformat_minor": 2
}
